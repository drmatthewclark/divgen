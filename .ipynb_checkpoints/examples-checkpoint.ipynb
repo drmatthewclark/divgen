{
 "cells": [
  {
   "cell_type": "code",
   "execution_count": 1,
   "id": "6618935a-ca1a-4142-918d-6e7757dac955",
   "metadata": {},
   "outputs": [],
   "source": [
    "%run 'divgen.ipynb'"
   ]
  },
  {
   "cell_type": "code",
   "execution_count": null,
   "id": "cb304cd5-9e01-4e20-80c7-6b76aa2eb36f",
   "metadata": {},
   "outputs": [
    {
     "name": "stdout",
     "output_type": "stream",
     "text": [
      "CC(C)c1cccc(C(C)C)c1O atoms 13 seed 111317\n"
     ]
    }
   ],
   "source": [
    "findmol('CC(C)c1cccc(c1O)C(C)C')  # find propofol in the stream"
   ]
  },
  {
   "cell_type": "code",
   "execution_count": null,
   "id": "4148c07c-b7ff-4138-97f6-a36dc1f5e1d6",
   "metadata": {},
   "outputs": [],
   "source": [
    "makemol(5000000, smileswriter, '/tmp/smilestest.smi')"
   ]
  }
 ],
 "metadata": {
  "kernelspec": {
   "display_name": "new",
   "language": "python",
   "name": "new"
  },
  "language_info": {
   "codemirror_mode": {
    "name": "ipython",
    "version": 3
   },
   "file_extension": ".py",
   "mimetype": "text/x-python",
   "name": "python",
   "nbconvert_exporter": "python",
   "pygments_lexer": "ipython3",
   "version": "3.7.11"
  }
 },
 "nbformat": 4,
 "nbformat_minor": 5
}
