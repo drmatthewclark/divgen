{
 "cells": [
  {
   "cell_type": "markdown",
   "id": "4bfff79f-05b6-472f-bb43-4a26a6a50b52",
   "metadata": {},
   "source": [
    "example of decorating a scaffold with random chemical fragments"
   ]
  },
  {
   "cell_type": "code",
   "execution_count": 1,
   "id": "3a396c07-028f-46fb-a402-fc4bb29f91d2",
   "metadata": {},
   "outputs": [],
   "source": [
    "%run 'divgen.ipynb'"
   ]
  },
  {
   "cell_type": "code",
   "execution_count": 3,
   "id": "be5d7df5-9249-4f4c-b443-40d10a7a8fec",
   "metadata": {},
   "outputs": [
    {
     "name": "stdout",
     "output_type": "stream",
     "text": [
      "hash size 21360 1 1348\n"
     ]
    }
   ],
   "source": [
    "makemol(50000, smileswriter, '/tmp/smilestest2.smi', smiles='CN(C)CCCN1C2=CC=CC=C2SC3=C1C=C(C=C3)Cl', low=1, high=6 )"
   ]
  },
  {
   "cell_type": "code",
   "execution_count": null,
   "id": "c8512d7c-3dc6-448b-ba91-421facf3480d",
   "metadata": {},
   "outputs": [],
   "source": []
  }
 ],
 "metadata": {
  "kernelspec": {
   "display_name": "new",
   "language": "python",
   "name": "new"
  },
  "language_info": {
   "codemirror_mode": {
    "name": "ipython",
    "version": 3
   },
   "file_extension": ".py",
   "mimetype": "text/x-python",
   "name": "python",
   "nbconvert_exporter": "python",
   "pygments_lexer": "ipython3",
   "version": "3.7.11"
  }
 },
 "nbformat": 4,
 "nbformat_minor": 5
}
